{
  "nbformat": 4,
  "nbformat_minor": 0,
  "metadata": {
    "colab": {
      "provenance": []
    },
    "kernelspec": {
      "name": "python3",
      "display_name": "Python 3"
    },
    "language_info": {
      "name": "python"
    }
  },
  "cells": [
    {
      "cell_type": "markdown",
      "source": [
        "# **Import Beberapa Library Pembantu dan Loading Data**\n",
        "Disini akan didefinisikan beberapa library pembantu dan juga memuat dataset serta pemisahan data train dan test dengan perbandingan 70:30"
      ],
      "metadata": {
        "id": "6yFcfqAb5xdt"
      }
    },
    {
      "cell_type": "code",
      "source": [
        "import pandas as pd\n",
        "from sklearn.model_selection import train_test_split\n",
        "from sklearn.svm import SVC\n",
        "from sklearn.metrics import accuracy_score, confusion_matrix\n",
        "import matplotlib.pyplot as plt\n",
        "import seaborn as sns"
      ],
      "metadata": {
        "id": "oJFLjTT46SjW"
      },
      "execution_count": 29,
      "outputs": []
    },
    {
      "cell_type": "code",
      "source": [
        "data = pd.read_csv('EEG_mental.csv')\n",
        "\n",
        "X = data.drop('Label', axis=1)\n",
        "y = data['Label']\n",
        "\n",
        "X_train, X_test, y_train, y_test = train_test_split(X, y, test_size=0.3, random_state=42)"
      ],
      "metadata": {
        "id": "05iHZO2t6VOK"
      },
      "execution_count": 4,
      "outputs": []
    },
    {
      "cell_type": "code",
      "source": [
        "data.head()"
      ],
      "metadata": {
        "colab": {
          "base_uri": "https://localhost:8080/",
          "height": 256
        },
        "id": "E0tpO0l--lFX",
        "outputId": "5617ec56-1ae4-48fe-a261-7eda826d8e37"
      },
      "execution_count": 5,
      "outputs": [
        {
          "output_type": "execute_result",
          "data": {
            "text/plain": [
              "   lag1_mean_0  lag1_mean_1  lag1_mean_2  lag1_mean_3  lag1_mean_d_h2h1_0  \\\n",
              "0    25.781648    33.836367   -92.769629    19.187957           -1.542262   \n",
              "1    29.357891    26.792566   417.203910    19.472121          -38.797263   \n",
              "2    28.451926    31.076434    72.231301    14.245938          -13.225057   \n",
              "3    21.282184    19.985184    16.220094    39.787312            1.847866   \n",
              "4    20.431516    28.982168    27.540246    19.960398            2.491458   \n",
              "\n",
              "   lag1_mean_d_h2h1_1  lag1_mean_d_h2h1_2  lag1_mean_d_h2h1_3  lag1_mean_q1_0  \\\n",
              "0            0.197462         -119.561133            2.032654       21.596272   \n",
              "1          -16.897194          -29.368531           -9.055370       44.647424   \n",
              "2           -0.614138          -28.331698           -8.858742       31.450289   \n",
              "3            0.670216           -1.820355           20.220724       21.404679   \n",
              "4           -6.020503           -1.071166            2.655259       16.295039   \n",
              "\n",
              "   lag1_mean_q1_1  ...  freq_669_3  freq_679_3  freq_689_3  freq_699_3  \\\n",
              "0       33.965587  ...    0.000230    0.000351    0.000547    0.000381   \n",
              "1       40.893307  ...    0.001671    0.000740    0.001122    0.000521   \n",
              "2       30.692883  ...    0.000748    0.000569    0.000327    0.000197   \n",
              "3       20.777411  ...    0.000990    0.005644    0.006891    0.010546   \n",
              "4       32.658163  ...    0.001659    0.014379    0.014492    0.002949   \n",
              "\n",
              "   freq_709_3  freq_720_3  freq_730_3  freq_740_3  freq_750_3  Label  \n",
              "0    0.000350    0.000453    0.000442    0.000325    0.000209    2.0  \n",
              "1    0.000624    0.000439    0.001249    0.000727    0.000801    2.0  \n",
              "2    0.000833    0.000909    0.000699    0.001165    0.000616    2.0  \n",
              "3    0.009583    0.011158    0.008853    0.004551    0.002287    1.0  \n",
              "4    0.004575    0.008305    0.007202    0.006957    0.009836    2.0  \n",
              "\n",
              "[5 rows x 989 columns]"
            ],
            "text/html": [
              "\n",
              "  <div id=\"df-fca9f9d4-b41a-4407-b559-e17a62ca9caf\" class=\"colab-df-container\">\n",
              "    <div>\n",
              "<style scoped>\n",
              "    .dataframe tbody tr th:only-of-type {\n",
              "        vertical-align: middle;\n",
              "    }\n",
              "\n",
              "    .dataframe tbody tr th {\n",
              "        vertical-align: top;\n",
              "    }\n",
              "\n",
              "    .dataframe thead th {\n",
              "        text-align: right;\n",
              "    }\n",
              "</style>\n",
              "<table border=\"1\" class=\"dataframe\">\n",
              "  <thead>\n",
              "    <tr style=\"text-align: right;\">\n",
              "      <th></th>\n",
              "      <th>lag1_mean_0</th>\n",
              "      <th>lag1_mean_1</th>\n",
              "      <th>lag1_mean_2</th>\n",
              "      <th>lag1_mean_3</th>\n",
              "      <th>lag1_mean_d_h2h1_0</th>\n",
              "      <th>lag1_mean_d_h2h1_1</th>\n",
              "      <th>lag1_mean_d_h2h1_2</th>\n",
              "      <th>lag1_mean_d_h2h1_3</th>\n",
              "      <th>lag1_mean_q1_0</th>\n",
              "      <th>lag1_mean_q1_1</th>\n",
              "      <th>...</th>\n",
              "      <th>freq_669_3</th>\n",
              "      <th>freq_679_3</th>\n",
              "      <th>freq_689_3</th>\n",
              "      <th>freq_699_3</th>\n",
              "      <th>freq_709_3</th>\n",
              "      <th>freq_720_3</th>\n",
              "      <th>freq_730_3</th>\n",
              "      <th>freq_740_3</th>\n",
              "      <th>freq_750_3</th>\n",
              "      <th>Label</th>\n",
              "    </tr>\n",
              "  </thead>\n",
              "  <tbody>\n",
              "    <tr>\n",
              "      <th>0</th>\n",
              "      <td>25.781648</td>\n",
              "      <td>33.836367</td>\n",
              "      <td>-92.769629</td>\n",
              "      <td>19.187957</td>\n",
              "      <td>-1.542262</td>\n",
              "      <td>0.197462</td>\n",
              "      <td>-119.561133</td>\n",
              "      <td>2.032654</td>\n",
              "      <td>21.596272</td>\n",
              "      <td>33.965587</td>\n",
              "      <td>...</td>\n",
              "      <td>0.000230</td>\n",
              "      <td>0.000351</td>\n",
              "      <td>0.000547</td>\n",
              "      <td>0.000381</td>\n",
              "      <td>0.000350</td>\n",
              "      <td>0.000453</td>\n",
              "      <td>0.000442</td>\n",
              "      <td>0.000325</td>\n",
              "      <td>0.000209</td>\n",
              "      <td>2.0</td>\n",
              "    </tr>\n",
              "    <tr>\n",
              "      <th>1</th>\n",
              "      <td>29.357891</td>\n",
              "      <td>26.792566</td>\n",
              "      <td>417.203910</td>\n",
              "      <td>19.472121</td>\n",
              "      <td>-38.797263</td>\n",
              "      <td>-16.897194</td>\n",
              "      <td>-29.368531</td>\n",
              "      <td>-9.055370</td>\n",
              "      <td>44.647424</td>\n",
              "      <td>40.893307</td>\n",
              "      <td>...</td>\n",
              "      <td>0.001671</td>\n",
              "      <td>0.000740</td>\n",
              "      <td>0.001122</td>\n",
              "      <td>0.000521</td>\n",
              "      <td>0.000624</td>\n",
              "      <td>0.000439</td>\n",
              "      <td>0.001249</td>\n",
              "      <td>0.000727</td>\n",
              "      <td>0.000801</td>\n",
              "      <td>2.0</td>\n",
              "    </tr>\n",
              "    <tr>\n",
              "      <th>2</th>\n",
              "      <td>28.451926</td>\n",
              "      <td>31.076434</td>\n",
              "      <td>72.231301</td>\n",
              "      <td>14.245938</td>\n",
              "      <td>-13.225057</td>\n",
              "      <td>-0.614138</td>\n",
              "      <td>-28.331698</td>\n",
              "      <td>-8.858742</td>\n",
              "      <td>31.450289</td>\n",
              "      <td>30.692883</td>\n",
              "      <td>...</td>\n",
              "      <td>0.000748</td>\n",
              "      <td>0.000569</td>\n",
              "      <td>0.000327</td>\n",
              "      <td>0.000197</td>\n",
              "      <td>0.000833</td>\n",
              "      <td>0.000909</td>\n",
              "      <td>0.000699</td>\n",
              "      <td>0.001165</td>\n",
              "      <td>0.000616</td>\n",
              "      <td>2.0</td>\n",
              "    </tr>\n",
              "    <tr>\n",
              "      <th>3</th>\n",
              "      <td>21.282184</td>\n",
              "      <td>19.985184</td>\n",
              "      <td>16.220094</td>\n",
              "      <td>39.787312</td>\n",
              "      <td>1.847866</td>\n",
              "      <td>0.670216</td>\n",
              "      <td>-1.820355</td>\n",
              "      <td>20.220724</td>\n",
              "      <td>21.404679</td>\n",
              "      <td>20.777411</td>\n",
              "      <td>...</td>\n",
              "      <td>0.000990</td>\n",
              "      <td>0.005644</td>\n",
              "      <td>0.006891</td>\n",
              "      <td>0.010546</td>\n",
              "      <td>0.009583</td>\n",
              "      <td>0.011158</td>\n",
              "      <td>0.008853</td>\n",
              "      <td>0.004551</td>\n",
              "      <td>0.002287</td>\n",
              "      <td>1.0</td>\n",
              "    </tr>\n",
              "    <tr>\n",
              "      <th>4</th>\n",
              "      <td>20.431516</td>\n",
              "      <td>28.982168</td>\n",
              "      <td>27.540246</td>\n",
              "      <td>19.960398</td>\n",
              "      <td>2.491458</td>\n",
              "      <td>-6.020503</td>\n",
              "      <td>-1.071166</td>\n",
              "      <td>2.655259</td>\n",
              "      <td>16.295039</td>\n",
              "      <td>32.658163</td>\n",
              "      <td>...</td>\n",
              "      <td>0.001659</td>\n",
              "      <td>0.014379</td>\n",
              "      <td>0.014492</td>\n",
              "      <td>0.002949</td>\n",
              "      <td>0.004575</td>\n",
              "      <td>0.008305</td>\n",
              "      <td>0.007202</td>\n",
              "      <td>0.006957</td>\n",
              "      <td>0.009836</td>\n",
              "      <td>2.0</td>\n",
              "    </tr>\n",
              "  </tbody>\n",
              "</table>\n",
              "<p>5 rows × 989 columns</p>\n",
              "</div>\n",
              "    <div class=\"colab-df-buttons\">\n",
              "\n",
              "  <div class=\"colab-df-container\">\n",
              "    <button class=\"colab-df-convert\" onclick=\"convertToInteractive('df-fca9f9d4-b41a-4407-b559-e17a62ca9caf')\"\n",
              "            title=\"Convert this dataframe to an interactive table.\"\n",
              "            style=\"display:none;\">\n",
              "\n",
              "  <svg xmlns=\"http://www.w3.org/2000/svg\" height=\"24px\" viewBox=\"0 -960 960 960\">\n",
              "    <path d=\"M120-120v-720h720v720H120Zm60-500h600v-160H180v160Zm220 220h160v-160H400v160Zm0 220h160v-160H400v160ZM180-400h160v-160H180v160Zm440 0h160v-160H620v160ZM180-180h160v-160H180v160Zm440 0h160v-160H620v160Z\"/>\n",
              "  </svg>\n",
              "    </button>\n",
              "\n",
              "  <style>\n",
              "    .colab-df-container {\n",
              "      display:flex;\n",
              "      gap: 12px;\n",
              "    }\n",
              "\n",
              "    .colab-df-convert {\n",
              "      background-color: #E8F0FE;\n",
              "      border: none;\n",
              "      border-radius: 50%;\n",
              "      cursor: pointer;\n",
              "      display: none;\n",
              "      fill: #1967D2;\n",
              "      height: 32px;\n",
              "      padding: 0 0 0 0;\n",
              "      width: 32px;\n",
              "    }\n",
              "\n",
              "    .colab-df-convert:hover {\n",
              "      background-color: #E2EBFA;\n",
              "      box-shadow: 0px 1px 2px rgba(60, 64, 67, 0.3), 0px 1px 3px 1px rgba(60, 64, 67, 0.15);\n",
              "      fill: #174EA6;\n",
              "    }\n",
              "\n",
              "    .colab-df-buttons div {\n",
              "      margin-bottom: 4px;\n",
              "    }\n",
              "\n",
              "    [theme=dark] .colab-df-convert {\n",
              "      background-color: #3B4455;\n",
              "      fill: #D2E3FC;\n",
              "    }\n",
              "\n",
              "    [theme=dark] .colab-df-convert:hover {\n",
              "      background-color: #434B5C;\n",
              "      box-shadow: 0px 1px 3px 1px rgba(0, 0, 0, 0.15);\n",
              "      filter: drop-shadow(0px 1px 2px rgba(0, 0, 0, 0.3));\n",
              "      fill: #FFFFFF;\n",
              "    }\n",
              "  </style>\n",
              "\n",
              "    <script>\n",
              "      const buttonEl =\n",
              "        document.querySelector('#df-fca9f9d4-b41a-4407-b559-e17a62ca9caf button.colab-df-convert');\n",
              "      buttonEl.style.display =\n",
              "        google.colab.kernel.accessAllowed ? 'block' : 'none';\n",
              "\n",
              "      async function convertToInteractive(key) {\n",
              "        const element = document.querySelector('#df-fca9f9d4-b41a-4407-b559-e17a62ca9caf');\n",
              "        const dataTable =\n",
              "          await google.colab.kernel.invokeFunction('convertToInteractive',\n",
              "                                                    [key], {});\n",
              "        if (!dataTable) return;\n",
              "\n",
              "        const docLinkHtml = 'Like what you see? Visit the ' +\n",
              "          '<a target=\"_blank\" href=https://colab.research.google.com/notebooks/data_table.ipynb>data table notebook</a>'\n",
              "          + ' to learn more about interactive tables.';\n",
              "        element.innerHTML = '';\n",
              "        dataTable['output_type'] = 'display_data';\n",
              "        await google.colab.output.renderOutput(dataTable, element);\n",
              "        const docLink = document.createElement('div');\n",
              "        docLink.innerHTML = docLinkHtml;\n",
              "        element.appendChild(docLink);\n",
              "      }\n",
              "    </script>\n",
              "  </div>\n",
              "\n",
              "\n",
              "<div id=\"df-880d1a65-613b-4cdf-aea6-4a7b7514f1dc\">\n",
              "  <button class=\"colab-df-quickchart\" onclick=\"quickchart('df-880d1a65-613b-4cdf-aea6-4a7b7514f1dc')\"\n",
              "            title=\"Suggest charts\"\n",
              "            style=\"display:none;\">\n",
              "\n",
              "<svg xmlns=\"http://www.w3.org/2000/svg\" height=\"24px\"viewBox=\"0 0 24 24\"\n",
              "     width=\"24px\">\n",
              "    <g>\n",
              "        <path d=\"M19 3H5c-1.1 0-2 .9-2 2v14c0 1.1.9 2 2 2h14c1.1 0 2-.9 2-2V5c0-1.1-.9-2-2-2zM9 17H7v-7h2v7zm4 0h-2V7h2v10zm4 0h-2v-4h2v4z\"/>\n",
              "    </g>\n",
              "</svg>\n",
              "  </button>\n",
              "\n",
              "<style>\n",
              "  .colab-df-quickchart {\n",
              "      --bg-color: #E8F0FE;\n",
              "      --fill-color: #1967D2;\n",
              "      --hover-bg-color: #E2EBFA;\n",
              "      --hover-fill-color: #174EA6;\n",
              "      --disabled-fill-color: #AAA;\n",
              "      --disabled-bg-color: #DDD;\n",
              "  }\n",
              "\n",
              "  [theme=dark] .colab-df-quickchart {\n",
              "      --bg-color: #3B4455;\n",
              "      --fill-color: #D2E3FC;\n",
              "      --hover-bg-color: #434B5C;\n",
              "      --hover-fill-color: #FFFFFF;\n",
              "      --disabled-bg-color: #3B4455;\n",
              "      --disabled-fill-color: #666;\n",
              "  }\n",
              "\n",
              "  .colab-df-quickchart {\n",
              "    background-color: var(--bg-color);\n",
              "    border: none;\n",
              "    border-radius: 50%;\n",
              "    cursor: pointer;\n",
              "    display: none;\n",
              "    fill: var(--fill-color);\n",
              "    height: 32px;\n",
              "    padding: 0;\n",
              "    width: 32px;\n",
              "  }\n",
              "\n",
              "  .colab-df-quickchart:hover {\n",
              "    background-color: var(--hover-bg-color);\n",
              "    box-shadow: 0 1px 2px rgba(60, 64, 67, 0.3), 0 1px 3px 1px rgba(60, 64, 67, 0.15);\n",
              "    fill: var(--button-hover-fill-color);\n",
              "  }\n",
              "\n",
              "  .colab-df-quickchart-complete:disabled,\n",
              "  .colab-df-quickchart-complete:disabled:hover {\n",
              "    background-color: var(--disabled-bg-color);\n",
              "    fill: var(--disabled-fill-color);\n",
              "    box-shadow: none;\n",
              "  }\n",
              "\n",
              "  .colab-df-spinner {\n",
              "    border: 2px solid var(--fill-color);\n",
              "    border-color: transparent;\n",
              "    border-bottom-color: var(--fill-color);\n",
              "    animation:\n",
              "      spin 1s steps(1) infinite;\n",
              "  }\n",
              "\n",
              "  @keyframes spin {\n",
              "    0% {\n",
              "      border-color: transparent;\n",
              "      border-bottom-color: var(--fill-color);\n",
              "      border-left-color: var(--fill-color);\n",
              "    }\n",
              "    20% {\n",
              "      border-color: transparent;\n",
              "      border-left-color: var(--fill-color);\n",
              "      border-top-color: var(--fill-color);\n",
              "    }\n",
              "    30% {\n",
              "      border-color: transparent;\n",
              "      border-left-color: var(--fill-color);\n",
              "      border-top-color: var(--fill-color);\n",
              "      border-right-color: var(--fill-color);\n",
              "    }\n",
              "    40% {\n",
              "      border-color: transparent;\n",
              "      border-right-color: var(--fill-color);\n",
              "      border-top-color: var(--fill-color);\n",
              "    }\n",
              "    60% {\n",
              "      border-color: transparent;\n",
              "      border-right-color: var(--fill-color);\n",
              "    }\n",
              "    80% {\n",
              "      border-color: transparent;\n",
              "      border-right-color: var(--fill-color);\n",
              "      border-bottom-color: var(--fill-color);\n",
              "    }\n",
              "    90% {\n",
              "      border-color: transparent;\n",
              "      border-bottom-color: var(--fill-color);\n",
              "    }\n",
              "  }\n",
              "</style>\n",
              "\n",
              "  <script>\n",
              "    async function quickchart(key) {\n",
              "      const quickchartButtonEl =\n",
              "        document.querySelector('#' + key + ' button');\n",
              "      quickchartButtonEl.disabled = true;  // To prevent multiple clicks.\n",
              "      quickchartButtonEl.classList.add('colab-df-spinner');\n",
              "      try {\n",
              "        const charts = await google.colab.kernel.invokeFunction(\n",
              "            'suggestCharts', [key], {});\n",
              "      } catch (error) {\n",
              "        console.error('Error during call to suggestCharts:', error);\n",
              "      }\n",
              "      quickchartButtonEl.classList.remove('colab-df-spinner');\n",
              "      quickchartButtonEl.classList.add('colab-df-quickchart-complete');\n",
              "    }\n",
              "    (() => {\n",
              "      let quickchartButtonEl =\n",
              "        document.querySelector('#df-880d1a65-613b-4cdf-aea6-4a7b7514f1dc button');\n",
              "      quickchartButtonEl.style.display =\n",
              "        google.colab.kernel.accessAllowed ? 'block' : 'none';\n",
              "    })();\n",
              "  </script>\n",
              "</div>\n",
              "    </div>\n",
              "  </div>\n"
            ]
          },
          "metadata": {},
          "execution_count": 5
        }
      ]
    },
    {
      "cell_type": "markdown",
      "source": [
        "# **Inisialisasi Support Vector Machine sebagai Classifier**\n",
        "Disini akan diinisialisasi sebuah support vector machine untuk melakukan klasifikasi dengan menggunakan kernel Gaussian/Radial Basis Function dan menggunakan metode one-against-all."
      ],
      "metadata": {
        "id": "NNYaFr_u8B9F"
      }
    },
    {
      "cell_type": "code",
      "source": [
        "svm_classifier = SVC(kernel='rbf', C=10, gamma=0.01, decision_function_shape='ovr')"
      ],
      "metadata": {
        "id": "27ZCZ-vm8dcZ"
      },
      "execution_count": 18,
      "outputs": []
    },
    {
      "cell_type": "markdown",
      "source": [
        "# **Pelatihan Model SVM**\n",
        "Disini model SVM akan dilatih untuk melakukan klasifikasi 'Mental State' ke salah satu dari 3 label yang ada menggunakan data pelatihan yang telah disiapkan."
      ],
      "metadata": {
        "id": "YR_Yd7Cv8nPd"
      }
    },
    {
      "cell_type": "code",
      "source": [
        "svm_classifier.fit(X_train, y_train)"
      ],
      "metadata": {
        "colab": {
          "base_uri": "https://localhost:8080/",
          "height": 75
        },
        "id": "qTEZGRir-WHC",
        "outputId": "269857a1-3120-4354-b0f3-48b41b533730"
      },
      "execution_count": 19,
      "outputs": [
        {
          "output_type": "execute_result",
          "data": {
            "text/plain": [
              "SVC(C=10, gamma=0.01)"
            ],
            "text/html": [
              "<style>#sk-container-id-4 {color: black;background-color: white;}#sk-container-id-4 pre{padding: 0;}#sk-container-id-4 div.sk-toggleable {background-color: white;}#sk-container-id-4 label.sk-toggleable__label {cursor: pointer;display: block;width: 100%;margin-bottom: 0;padding: 0.3em;box-sizing: border-box;text-align: center;}#sk-container-id-4 label.sk-toggleable__label-arrow:before {content: \"▸\";float: left;margin-right: 0.25em;color: #696969;}#sk-container-id-4 label.sk-toggleable__label-arrow:hover:before {color: black;}#sk-container-id-4 div.sk-estimator:hover label.sk-toggleable__label-arrow:before {color: black;}#sk-container-id-4 div.sk-toggleable__content {max-height: 0;max-width: 0;overflow: hidden;text-align: left;background-color: #f0f8ff;}#sk-container-id-4 div.sk-toggleable__content pre {margin: 0.2em;color: black;border-radius: 0.25em;background-color: #f0f8ff;}#sk-container-id-4 input.sk-toggleable__control:checked~div.sk-toggleable__content {max-height: 200px;max-width: 100%;overflow: auto;}#sk-container-id-4 input.sk-toggleable__control:checked~label.sk-toggleable__label-arrow:before {content: \"▾\";}#sk-container-id-4 div.sk-estimator input.sk-toggleable__control:checked~label.sk-toggleable__label {background-color: #d4ebff;}#sk-container-id-4 div.sk-label input.sk-toggleable__control:checked~label.sk-toggleable__label {background-color: #d4ebff;}#sk-container-id-4 input.sk-hidden--visually {border: 0;clip: rect(1px 1px 1px 1px);clip: rect(1px, 1px, 1px, 1px);height: 1px;margin: -1px;overflow: hidden;padding: 0;position: absolute;width: 1px;}#sk-container-id-4 div.sk-estimator {font-family: monospace;background-color: #f0f8ff;border: 1px dotted black;border-radius: 0.25em;box-sizing: border-box;margin-bottom: 0.5em;}#sk-container-id-4 div.sk-estimator:hover {background-color: #d4ebff;}#sk-container-id-4 div.sk-parallel-item::after {content: \"\";width: 100%;border-bottom: 1px solid gray;flex-grow: 1;}#sk-container-id-4 div.sk-label:hover label.sk-toggleable__label {background-color: #d4ebff;}#sk-container-id-4 div.sk-serial::before {content: \"\";position: absolute;border-left: 1px solid gray;box-sizing: border-box;top: 0;bottom: 0;left: 50%;z-index: 0;}#sk-container-id-4 div.sk-serial {display: flex;flex-direction: column;align-items: center;background-color: white;padding-right: 0.2em;padding-left: 0.2em;position: relative;}#sk-container-id-4 div.sk-item {position: relative;z-index: 1;}#sk-container-id-4 div.sk-parallel {display: flex;align-items: stretch;justify-content: center;background-color: white;position: relative;}#sk-container-id-4 div.sk-item::before, #sk-container-id-4 div.sk-parallel-item::before {content: \"\";position: absolute;border-left: 1px solid gray;box-sizing: border-box;top: 0;bottom: 0;left: 50%;z-index: -1;}#sk-container-id-4 div.sk-parallel-item {display: flex;flex-direction: column;z-index: 1;position: relative;background-color: white;}#sk-container-id-4 div.sk-parallel-item:first-child::after {align-self: flex-end;width: 50%;}#sk-container-id-4 div.sk-parallel-item:last-child::after {align-self: flex-start;width: 50%;}#sk-container-id-4 div.sk-parallel-item:only-child::after {width: 0;}#sk-container-id-4 div.sk-dashed-wrapped {border: 1px dashed gray;margin: 0 0.4em 0.5em 0.4em;box-sizing: border-box;padding-bottom: 0.4em;background-color: white;}#sk-container-id-4 div.sk-label label {font-family: monospace;font-weight: bold;display: inline-block;line-height: 1.2em;}#sk-container-id-4 div.sk-label-container {text-align: center;}#sk-container-id-4 div.sk-container {/* jupyter's `normalize.less` sets `[hidden] { display: none; }` but bootstrap.min.css set `[hidden] { display: none !important; }` so we also need the `!important` here to be able to override the default hidden behavior on the sphinx rendered scikit-learn.org. See: https://github.com/scikit-learn/scikit-learn/issues/21755 */display: inline-block !important;position: relative;}#sk-container-id-4 div.sk-text-repr-fallback {display: none;}</style><div id=\"sk-container-id-4\" class=\"sk-top-container\"><div class=\"sk-text-repr-fallback\"><pre>SVC(C=10, gamma=0.01)</pre><b>In a Jupyter environment, please rerun this cell to show the HTML representation or trust the notebook. <br />On GitHub, the HTML representation is unable to render, please try loading this page with nbviewer.org.</b></div><div class=\"sk-container\" hidden><div class=\"sk-item\"><div class=\"sk-estimator sk-toggleable\"><input class=\"sk-toggleable__control sk-hidden--visually\" id=\"sk-estimator-id-4\" type=\"checkbox\" checked><label for=\"sk-estimator-id-4\" class=\"sk-toggleable__label sk-toggleable__label-arrow\">SVC</label><div class=\"sk-toggleable__content\"><pre>SVC(C=10, gamma=0.01)</pre></div></div></div></div></div>"
            ]
          },
          "metadata": {},
          "execution_count": 19
        }
      ]
    },
    {
      "cell_type": "markdown",
      "source": [
        "# **Pengujian dan Evaluasi Model SVM**\n",
        "Model SVM yang telah dilatih kemudian akan dievaluasi akurasi dan performanya dengan menggunakan data pengujian yang telah disiapkan. Data yang digunakan merupakan data baru yang belum pernah dikenali oleh model."
      ],
      "metadata": {
        "id": "9FzltGef8eXu"
      }
    },
    {
      "cell_type": "code",
      "source": [
        "y_pred = svm_classifier.predict(X_test)\n",
        "\n",
        "accuracy = accuracy_score(y_test, y_pred)\n",
        "print(f'Akurasi: {accuracy:.2f}')\n",
        "\n",
        "cm = confusion_matrix(y_test, y_pred)\n",
        "sns.heatmap(cm, annot=True, fmt='d', cmap='Blues')\n",
        "plt.xlabel('Prediksi')\n",
        "plt.ylabel('Label Sebenarnya')\n",
        "plt.show()"
      ],
      "metadata": {
        "colab": {
          "base_uri": "https://localhost:8080/",
          "height": 466
        },
        "id": "rMCP_Pd3-QJR",
        "outputId": "8aee6d7e-069d-4418-8d1b-06a427ff720d"
      },
      "execution_count": 33,
      "outputs": [
        {
          "output_type": "stream",
          "name": "stdout",
          "text": [
            "Akurasi: 0.63\n"
          ]
        },
        {
          "output_type": "display_data",
          "data": {
            "text/plain": [
              "<Figure size 640x480 with 2 Axes>"
            ],
            "image/png": "[encoded data removed]"
          },
          "metadata": {}
        }
      ]
    },
    {
      "cell_type": "markdown",
      "source": [
        "# **User Input**\n",
        "Disini pengguna dapat memasukkan data sendiri untuk melakukan klasifikasi, data berupa csv yang berjumlah 1 baris dengan data fitur EEG"
      ],
      "metadata": {
        "id": "-9wTBg-gA60T"
      }
    },
    {
      "cell_type": "code",
      "execution_count": 31,
      "metadata": {
        "colab": {
          "base_uri": "https://localhost:8080/"
        },
        "id": "15_mQ5p7uIb-",
        "outputId": "49659e15-5348-4e40-95da-5fa72c5ccc82"
      },
      "outputs": [
        {
          "output_type": "stream",
          "name": "stdout",
          "text": [
            "Hasil Prediksi Keadaan Mental:\n",
            "Konsentrasi\n"
          ]
        }
      ],
      "source": [
        "def predict_with_classifier(classifier, input_file):\n",
        "    input_data = pd.read_csv(input_file)\n",
        "\n",
        "    predictions = classifier.predict(input_data)\n",
        "\n",
        "    predictions_text = 'Rileks' if predictions==0 else 'Konsentrasi' if predictions==1 else 'Netral'\n",
        "\n",
        "    print('Hasil Prediksi Keadaan Mental:')\n",
        "    print(predictions_text)\n",
        "\n",
        "input_path = 'user_input.csv'\n",
        "predict_with_classifier(svm_classifier, input_path)"
      ]
    }
  ]
}